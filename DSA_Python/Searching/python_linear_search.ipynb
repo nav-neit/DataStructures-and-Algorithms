{
 "cells": [
  {
   "cell_type": "markdown",
   "id": "4def90db",
   "metadata": {},
   "source": [
    "### A simple linear search with edge cases"
   ]
  },
  {
   "cell_type": "code",
   "execution_count": 13,
   "id": "523d22e1",
   "metadata": {},
   "outputs": [],
   "source": [
    "tests = []"
   ]
  },
  {
   "cell_type": "code",
   "execution_count": 14,
   "id": "02034b6c",
   "metadata": {},
   "outputs": [],
   "source": [
    "tests.append({\n",
    "    'input':{\n",
    "        'arr' : [13,12,11,7,4,3,1,0],\n",
    "        'key' : 1\n",
    "    },\n",
    "    'output': 6\n",
    "})"
   ]
  },
  {
   "cell_type": "code",
   "execution_count": 16,
   "id": "c2303994",
   "metadata": {},
   "outputs": [],
   "source": [
    "tests.append({\n",
    "    'input':{\n",
    "        'arr' : [4,2,1,-1],\n",
    "        'key' : 4\n",
    "    },\n",
    "    'output': 0\n",
    "})"
   ]
  },
  {
   "cell_type": "code",
   "execution_count": 17,
   "id": "afc1c8ea",
   "metadata": {},
   "outputs": [],
   "source": [
    "tests.append({\n",
    "    'input':{\n",
    "        'arr' : [8,4,3,1,0,-8,-10],\n",
    "        'key' : -10\n",
    "    },\n",
    "    'output': 6\n",
    "})"
   ]
  },
  {
   "cell_type": "code",
   "execution_count": 18,
   "id": "17f667a9",
   "metadata": {},
   "outputs": [],
   "source": [
    "tests.append({\n",
    "    'input':{\n",
    "        'arr' : [2],\n",
    "        'key' : 2\n",
    "    },\n",
    "    'output': 0\n",
    "})"
   ]
  },
  {
   "cell_type": "code",
   "execution_count": 19,
   "id": "6c5d343f",
   "metadata": {},
   "outputs": [],
   "source": [
    "tests.append({\n",
    "    'input':{\n",
    "        'arr' : [],\n",
    "        'key' : 1\n",
    "    },\n",
    "    'output': -1\n",
    "})"
   ]
  },
  {
   "cell_type": "code",
   "execution_count": 20,
   "id": "b30379f9",
   "metadata": {},
   "outputs": [],
   "source": [
    "tests.append({\n",
    "    'input':{\n",
    "        'arr' : [5,4,4,3,3,3,1,0,0,-1],\n",
    "        'key' : 1\n",
    "    },\n",
    "    'output': 6\n",
    "})"
   ]
  },
  {
   "cell_type": "code",
   "execution_count": 21,
   "id": "704617af",
   "metadata": {},
   "outputs": [],
   "source": [
    "tests.append({\n",
    "    'input':{\n",
    "        'arr' : [5,4,4,3,3,3,0],\n",
    "        'key' : 3\n",
    "    },\n",
    "    'output': 3\n",
    "})"
   ]
  },
  {
   "cell_type": "code",
   "execution_count": 29,
   "id": "f17267d5",
   "metadata": {},
   "outputs": [],
   "source": [
    "def lin_search(arr, key):\n",
    "    pos = 0\n",
    "    if len(arr)==0:\n",
    "        return -1\n",
    "    if arr[pos] == key :\n",
    "        return pos\n",
    "    for i in range(1,len(arr)):\n",
    "        if arr[i] == key:\n",
    "            pos = i\n",
    "            return pos"
   ]
  },
  {
   "cell_type": "code",
   "execution_count": 30,
   "id": "d6aac583",
   "metadata": {},
   "outputs": [],
   "source": [
    "def check_test(tests, f):\n",
    "    for test in tests:\n",
    "        if f(**test['input']) != test['output']:\n",
    "            print('failed test case', test)\n",
    "            return\n",
    "    return 'Test cases passed'"
   ]
  },
  {
   "cell_type": "code",
   "execution_count": 31,
   "id": "3bb719ab",
   "metadata": {},
   "outputs": [
    {
     "data": {
      "text/plain": [
       "'Test cases passed'"
      ]
     },
     "execution_count": 31,
     "metadata": {},
     "output_type": "execute_result"
    }
   ],
   "source": [
    "check_test(tests, lin_search)"
   ]
  },
  {
   "cell_type": "code",
   "execution_count": null,
   "id": "546048d3",
   "metadata": {},
   "outputs": [],
   "source": []
  }
 ],
 "metadata": {
  "kernelspec": {
   "display_name": "Python 3 (ipykernel)",
   "language": "python",
   "name": "python3"
  },
  "language_info": {
   "codemirror_mode": {
    "name": "ipython",
    "version": 3
   },
   "file_extension": ".py",
   "mimetype": "text/x-python",
   "name": "python",
   "nbconvert_exporter": "python",
   "pygments_lexer": "ipython3",
   "version": "3.9.7"
  }
 },
 "nbformat": 4,
 "nbformat_minor": 5
}
